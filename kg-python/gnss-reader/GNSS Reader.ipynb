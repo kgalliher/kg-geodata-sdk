{
 "cells": [
  {
   "cell_type": "markdown",
   "metadata": {},
   "source": [
    "## Read GNSS Data into Portal/AGOL\n",
    "\n",
    "Using the ArcGIS Python API\n",
    "Read a NMEA file from a URL, parse the $GPGGA line which contains the lat/long and other GPS attributes.\n",
    "\n",
    "[ArcGIS Python API - Guide](\"https://developers.arcgis.com/python/\")\n",
    "\n",
    "[ArcGIS Python API - Reference](\"https://developers.arcgis.com/python/api-reference/\")"
   ]
  },
  {
   "cell_type": "code",
   "execution_count": 24,
   "metadata": {},
   "outputs": [],
   "source": [
    "import re, shutil, tempfile\n",
    "from urllib.request import urlopen\n",
    "import pandas as pd\n",
    "from arcgis.gis import GIS\n",
    "\n",
    "gis = GIS(\"https://krennic.esri.com/portal\", \"admin\", \"esri.agp\")"
   ]
  },
  {
   "cell_type": "markdown",
   "metadata": {},
   "source": [
    "#### Convert NMEA coords to lat/long\n",
    "```\n",
    "DD = int(float(n)/100)\n",
    "SS = float(n) - DD * 100\n",
    "coordinate = DD + SS / 60\n",
    "```"
   ]
  },
  {
   "cell_type": "code",
   "execution_count": 2,
   "metadata": {},
   "outputs": [],
   "source": [
    "def nmea_to_latlong(val):\n",
    "    dd = int(float(val)/100)\n",
    "    ss = float(val) - dd * 100\n",
    "    return dd + ss / 60"
   ]
  },
  {
   "cell_type": "markdown",
   "metadata": {},
   "source": [
    "#### Download or stream NMEA data, parse the GPGGA sentence to get coords and altitude\n",
    "The UTC position value could be helpful for determining the order of the points.\n",
    "\n",
    "*There is probably a better way to get to the coordinates into a portal item than creating a .csv file first.  This can definitely be done by using a feature service from ArcGIS Server by building up a JSON object with the adds/updates.  Not sure how to do this from Portal/AGOL*\n",
    "[Generate some NMEA data](https://nmeagen.org/)"
   ]
  },
  {
   "cell_type": "code",
   "execution_count": 26,
   "metadata": {
    "scrolled": true
   },
   "outputs": [
    {
     "name": "stdout",
     "output_type": "stream",
     "text": [
      "{'utc_pos': 235234, 'latitude': 39.43283666666667, 'longitude': -119.76559, 'altitude': 1378.6}\n"
     ]
    },
    {
     "data": {
      "text/html": [
       "<div>\n",
       "<style scoped>\n",
       "    .dataframe tbody tr th:only-of-type {\n",
       "        vertical-align: middle;\n",
       "    }\n",
       "\n",
       "    .dataframe tbody tr th {\n",
       "        vertical-align: top;\n",
       "    }\n",
       "\n",
       "    .dataframe thead th {\n",
       "        text-align: right;\n",
       "    }\n",
       "</style>\n",
       "<table border=\"1\" class=\"dataframe\">\n",
       "  <thead>\n",
       "    <tr style=\"text-align: right;\">\n",
       "      <th></th>\n",
       "      <th>latitude</th>\n",
       "      <th>longitude</th>\n",
       "    </tr>\n",
       "    <tr>\n",
       "      <th>objid</th>\n",
       "      <th></th>\n",
       "      <th></th>\n",
       "    </tr>\n",
       "  </thead>\n",
       "  <tbody>\n",
       "    <tr>\n",
       "      <th>0</th>\n",
       "      <td>39.432837</td>\n",
       "      <td>-119.765590</td>\n",
       "    </tr>\n",
       "    <tr>\n",
       "      <th>1</th>\n",
       "      <td>39.432465</td>\n",
       "      <td>-119.765352</td>\n",
       "    </tr>\n",
       "    <tr>\n",
       "      <th>2</th>\n",
       "      <td>39.432095</td>\n",
       "      <td>-119.765113</td>\n",
       "    </tr>\n",
       "    <tr>\n",
       "      <th>3</th>\n",
       "      <td>39.431725</td>\n",
       "      <td>-119.764875</td>\n",
       "    </tr>\n",
       "    <tr>\n",
       "      <th>4</th>\n",
       "      <td>39.431358</td>\n",
       "      <td>-119.764637</td>\n",
       "    </tr>\n",
       "  </tbody>\n",
       "</table>\n",
       "</div>"
      ],
      "text/plain": [
       "        latitude   longitude\n",
       "objid                       \n",
       "0      39.432837 -119.765590\n",
       "1      39.432465 -119.765352\n",
       "2      39.432095 -119.765113\n",
       "3      39.431725 -119.764875\n",
       "4      39.431358 -119.764637"
      ]
     },
     "execution_count": 26,
     "metadata": {},
     "output_type": "execute_result"
    }
   ],
   "source": [
    "## Provide a url of nmea data then pass tmp_file to the next open function...\n",
    "with urlopen(\"https://raw.githubusercontent.com/dotMorten/NmeaParser/master/src/NmeaSampleData.txt\") as response:\n",
    "    with tempfile.NamedTemporaryFile(delete=False) as tmp_file:\n",
    "        shutil.copyfileobj(response, tmp_file)\n",
    "        \n",
    "with open(tmp_file.name) as log:\n",
    "    gngns = []\n",
    "    for line in log:\n",
    "        if line.startswith(\"$GPGGA\"):\n",
    "            gngns.append(line.split(\",\"))\n",
    "    pts = []\n",
    "    for i, val in enumerate(gngns):\n",
    "        lat = nmea_to_latlong(val[2])\n",
    "        long = nmea_to_latlong(val[4])\n",
    "        if val[5] == \"W\":\n",
    "            long = long - (long * 2)\n",
    "        if val[3] == \"S\":\n",
    "            lat = lat - (lat * 2)\n",
    "        pts.append(\n",
    "            {\"utc_pos\": int(float(val[1])), \n",
    "             \"latitude\": nmea_to_latlong(val[2]), \n",
    "             \"longitude\": long, \n",
    "             \"altitude\": float(val[9])})\n",
    "    \n",
    "    \n",
    "    # Write data to a csv file.\n",
    "    df = pd.DataFrame(pts)\n",
    "    df.index.name = 'objid'\n",
    "    df.astype({\"utc_pos\": \"int32\"})\n",
    "    df.to_csv(\"coords.csv\")\n",
    "    \n",
    "# Print some rows to verify\n",
    "df.loc[df.index < 5, [\"latitude\", \"longitude\"]]"
   ]
  },
  {
   "cell_type": "markdown",
   "metadata": {},
   "source": [
    "#### Publish to Portal\n",
    "\n",
    "This example is using ArcGIS Enterprise but this will also work with ArcGIS Online.  Just look up how to authenticate.\n",
    "\n",
    "[ArcGIS Python API - Publish to Portal](\"https://developers.arcgis.com/python/guide/accessing-and-creating-content/\")"
   ]
  },
  {
   "cell_type": "code",
   "execution_count": 25,
   "metadata": {},
   "outputs": [
    {
     "data": {
      "text/html": [
       "<div class=\"item_container\" style=\"height: auto; overflow: hidden; border: 1px solid #cfcfcf; border-radius: 2px; background: #f6fafa; line-height: 1.21429em; padding: 10px;\">\n",
       "                    <div class=\"item_left\" style=\"width: 210px; float: left;\">\n",
       "                       <a href='https://krennic.esri.com/portal/home/item.html?id=faba755296aa4820ad35cbec12845213' target='_blank'>\n",
       "                        <img src='https://krennic.esri.com/portal/portalimages/desktopapp.png' class=\"itemThumbnail\">\n",
       "                       </a>\n",
       "                    </div>\n",
       "\n",
       "                    <div class=\"item_right\"     style=\"float: none; width: auto; overflow: hidden;\">\n",
       "                        <a href='https://krennic.esri.com/portal/home/item.html?id=faba755296aa4820ad35cbec12845213' target='_blank'><b>GNSS Data Feed</b>\n",
       "                        </a>\n",
       "                        <br/><img src='https://krennic.esri.com/portal/home/js/jsapi/esri/css/images/item_type_icons/featureshosted16.png' style=\"vertical-align:middle;\">Feature Layer Collection by admin\n",
       "                        <br/>Last Modified: March 25, 2020\n",
       "                        <br/>0 comments, 0 views\n",
       "                    </div>\n",
       "                </div>\n",
       "                "
      ],
      "text/plain": [
       "<Item title:\"GNSS Data Feed\" type:Feature Layer Collection owner:admin>"
      ]
     },
     "execution_count": 25,
     "metadata": {},
     "output_type": "execute_result"
    }
   ],
   "source": [
    "pts_properties = {\n",
    "    'title': 'GNSS Data Feed',\n",
    "    'tags': 'GNSS, GPS, Python',\n",
    "    'type': 'CSV'\n",
    "}\n",
    "\n",
    "coords_csv = gis.content.add(pts_properties, data=\"coords.csv\")\n",
    "coords_csv.publish()"
   ]
  },
  {
   "cell_type": "code",
   "execution_count": null,
   "metadata": {},
   "outputs": [],
   "source": []
  }
 ],
 "metadata": {
  "kernelspec": {
   "display_name": "Python 3",
   "language": "python",
   "name": "python3"
  },
  "language_info": {
   "codemirror_mode": {
    "name": "ipython",
    "version": 3
   },
   "file_extension": ".py",
   "mimetype": "text/x-python",
   "name": "python",
   "nbconvert_exporter": "python",
   "pygments_lexer": "ipython3",
   "version": "3.7.1"
  }
 },
 "nbformat": 4,
 "nbformat_minor": 2
}
